{
 "cells": [
  {
   "cell_type": "code",
   "execution_count": 0,
   "metadata": {
    "application/vnd.databricks.v1+cell": {
     "cellMetadata": {
      "byteLimit": 2048000,
      "rowLimit": 10000
     },
     "inputWidgets": {},
     "nuid": "1c752c33-b81b-49ae-a596-96c56be93945",
     "showTitle": false,
     "tableResultSettingsMap": {},
     "title": ""
    }
   },
   "outputs": [],
   "source": [
    "# ---- Config ----\n",
    "CATALOG = \"music_demo\"\n",
    "BRONZE_SCHEMA = \"bronze\"\n",
    "\n",
    "# Path to the CSVs you uploaded to the Unity Catalog Volume (landing schema)\n",
    "RAW_BASE_PATH = \"/Volumes/music_demo/landing/raw_files/music_discovery_demo\"\n",
    "\n",
    "print(\"CATALOG:\", CATALOG)\n",
    "print(\"SCHEMA :\", BRONZE_SCHEMA)\n",
    "print(\"RAW_BASE_PATH:\", RAW_BASE_PATH)\n"
   ]
  },
  {
   "cell_type": "code",
   "execution_count": 0,
   "metadata": {
    "application/vnd.databricks.v1+cell": {
     "cellMetadata": {
      "byteLimit": 2048000,
      "rowLimit": 10000
     },
     "inputWidgets": {},
     "nuid": "b0e77422-c024-4170-9bfb-c066de007f2b",
     "showTitle": false,
     "tableResultSettingsMap": {},
     "title": ""
    }
   },
   "outputs": [],
   "source": [
    "spark.sql(f\"CREATE CATALOG IF NOT EXISTS {CATALOG}\")\n",
    "spark.sql(f\"USE CATALOG {CATALOG}\")\n",
    "spark.sql(f\"CREATE SCHEMA IF NOT EXISTS {BRONZE_SCHEMA}\")\n",
    "spark.sql(f\"USE {BRONZE_SCHEMA}\")"
   ]
  },
  {
   "cell_type": "code",
   "execution_count": 0,
   "metadata": {
    "application/vnd.databricks.v1+cell": {
     "cellMetadata": {
      "byteLimit": 2048000,
      "rowLimit": 10000
     },
     "inputWidgets": {},
     "nuid": "15ffdc08-cda4-48c6-a070-24cc108a1feb",
     "showTitle": false,
     "tableResultSettingsMap": {},
     "title": ""
    }
   },
   "outputs": [],
   "source": [
    "spark.sql(\"\"\"\n",
    "CREATE TABLE IF NOT EXISTS artists (\n",
    "  artist_id STRING,\n",
    "  artist_name STRING,\n",
    "  genre STRING,\n",
    "  country_of_origin STRING,\n",
    "  debut_year STRING\n",
    ") USING DELTA\n",
    "\"\"\")\n",
    "\n",
    "spark.sql(\"\"\"\n",
    "DROP TABLE IF EXISTS tracks\"\"\")      \n",
    "\n",
    "spark.sql(\"\"\"\n",
    "CREATE TABLE IF NOT EXISTS tracks (\n",
    "  track_id STRING,\n",
    "  artist_id STRING,\n",
    "  track_title STRING,\n",
    "  release_date STRING,\n",
    "  primary_genre STRING\n",
    ") USING DELTA\n",
    "\"\"\")\n",
    "\n",
    "spark.sql(\"\"\"\n",
    "DROP TABLE IF EXISTS daily_metrics\"\"\") \n",
    "\n",
    "spark.sql(\"\"\"\n",
    "CREATE TABLE IF NOT EXISTS daily_metrics (\n",
    "  date STRING,\n",
    "  platform STRING,\n",
    "  region STRING,\n",
    "  artist_id STRING,\n",
    "  track_id STRING,\n",
    "  streams STRING,\n",
    "  views STRING,\n",
    "  likes STRING,\n",
    "  comments STRING,\n",
    "  shares STRING,\n",
    "  followers_gained STRING,\n",
    "  rank_estimate STRING\n",
    ") USING DELTA\n",
    "\"\"\")\n"
   ]
  },
  {
   "cell_type": "code",
   "execution_count": 0,
   "metadata": {
    "application/vnd.databricks.v1+cell": {
     "cellMetadata": {
      "byteLimit": 2048000,
      "rowLimit": 10000
     },
     "inputWidgets": {},
     "nuid": "f4e4b521-e475-4196-a98f-cd53a449451b",
     "showTitle": false,
     "tableResultSettingsMap": {},
     "title": ""
    }
   },
   "outputs": [],
   "source": [
    "spark.sql(f\"\"\"\n",
    "COPY INTO artists\n",
    "FROM '{RAW_BASE_PATH}/artists.csv'\n",
    "FILEFORMAT = CSV\n",
    "FORMAT_OPTIONS('header' = 'true')\n",
    "COPY_OPTIONS('force'='true')\n",
    "\"\"\")\n",
    "\n",
    "spark.sql(f\"\"\"\n",
    "COPY INTO tracks\n",
    "FROM '{RAW_BASE_PATH}/tracks.csv'\n",
    "FILEFORMAT = CSV\n",
    "FORMAT_OPTIONS('header' = 'true')\n",
    "COPY_OPTIONS('force'='true')\n",
    "\"\"\")\n",
    "\n",
    "spark.sql(f\"\"\"\n",
    "COPY INTO daily_metrics\n",
    "FROM '{RAW_BASE_PATH}/daily_metrics.csv'\n",
    "FILEFORMAT = CSV\n",
    "FORMAT_OPTIONS('header' = 'true')\n",
    "COPY_OPTIONS('force'='true')\n",
    "\"\"\")\n"
   ]
  },
  {
   "cell_type": "code",
   "execution_count": 0,
   "metadata": {
    "application/vnd.databricks.v1+cell": {
     "cellMetadata": {
      "byteLimit": 2048000,
      "rowLimit": 10000
     },
     "inputWidgets": {},
     "nuid": "42641348-fa31-477a-a428-a05dfc3b88c8",
     "showTitle": false,
     "tableResultSettingsMap": {},
     "title": ""
    }
   },
   "outputs": [],
   "source": [
    "display(spark.sql(\"SELECT COUNT(*) AS artists_rows FROM artists\"))\n",
    "display(spark.sql(\"SELECT COUNT(*) AS tracks_rows FROM tracks\"))\n",
    "display(spark.sql(\"SELECT COUNT(*) AS metrics_rows FROM daily_metrics\"))\n",
    "\n",
    "display(spark.sql(\"SELECT * FROM artists LIMIT 5\"))\n",
    "display(spark.sql(\"SELECT * FROM tracks LIMIT 5\"))\n",
    "display(spark.sql(\"\"\"\n",
    "SELECT date, platform, region, streams, views\n",
    "FROM daily_metrics\n",
    "ORDER BY date DESC\n",
    "LIMIT 10\n",
    "\"\"\"))"
   ]
  }
 ],
 "metadata": {
  "application/vnd.databricks.v1+notebook": {
   "computePreferences": null,
   "dashboards": [],
   "environmentMetadata": {
    "base_environment": "",
    "environment_version": "3"
   },
   "inputWidgetPreferences": null,
   "language": "python",
   "notebookMetadata": {
    "pythonIndentUnit": 4
   },
   "notebookName": "01_bronze_load.py",
   "widgets": {}
  },
  "language_info": {
   "name": "python"
  }
 },
 "nbformat": 4,
 "nbformat_minor": 0
}

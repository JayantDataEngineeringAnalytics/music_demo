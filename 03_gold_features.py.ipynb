{
 "cells": [
  {
   "cell_type": "code",
   "execution_count": 0,
   "metadata": {
    "application/vnd.databricks.v1+cell": {
     "cellMetadata": {
      "byteLimit": 2048000,
      "rowLimit": 10000
     },
     "inputWidgets": {},
     "nuid": "4405abca-124d-4687-a3d4-39343592f60a",
     "showTitle": false,
     "tableResultSettingsMap": {},
     "title": ""
    }
   },
   "outputs": [],
   "source": [
    "from pyspark.sql import functions as F\n",
    "from pyspark.sql.window import Window\n",
    "\n",
    "CATALOG = \"music_demo\"\n",
    "SILVER  = \"silver\"\n",
    "GOLD    = \"gold\"\n",
    "\n",
    "spark.sql(f\"CREATE CATALOG IF NOT EXISTS {CATALOG}\")\n",
    "spark.sql(f\"USE CATALOG {CATALOG}\")\n",
    "spark.sql(f\"CREATE SCHEMA IF NOT EXISTS {GOLD}\")\n",
    "spark.sql(f\"USE {GOLD}\")\n"
   ]
  },
  {
   "cell_type": "code",
   "execution_count": 0,
   "metadata": {
    "application/vnd.databricks.v1+cell": {
     "cellMetadata": {
      "byteLimit": 2048000,
      "rowLimit": 10000
     },
     "inputWidgets": {},
     "nuid": "91cede11-63da-45f9-bfa7-13093e4abbdf",
     "showTitle": false,
     "tableResultSettingsMap": {},
     "title": ""
    }
   },
   "outputs": [],
   "source": [
    "# Pull clean Silver fact\n",
    "df = (spark.table(f\"{CATALOG}.{SILVER}.fact_metrics\")\n",
    "        .withColumn(\"activity\", F.coalesce(F.col(\"streams\"), F.lit(0)) + F.coalesce(F.col(\"views\"), F.lit(0))))\n",
    "\n",
    "# Window specs\n",
    "w7      = Window.partitionBy(\"track_id\", \"platform\").orderBy(F.col(\"date\").cast(\"timestamp\")).rowsBetween(-6, 0)\n",
    "w28     = Window.partitionBy(\"track_id\", \"platform\").orderBy(F.col(\"date\").cast(\"timestamp\")).rowsBetween(-27, 0)\n",
    "wfol7   = Window.partitionBy(\"artist_id\", \"platform\").orderBy(F.col(\"date\").cast(\"timestamp\")).rowsBetween(-6, 0)\n",
    "wprev21 = Window.partitionBy(\"track_id\", \"platform\").orderBy(F.col(\"date\").cast(\"timestamp\")).rowsBetween(-27, -7)\n",
    "\n",
    "feat = (df\n",
    "    .withColumn(\"activity_7d\",  F.sum(\"activity\").over(w7))\n",
    "    .withColumn(\"activity_28d\", F.sum(\"activity\").over(w28))\n",
    "    .withColumn(\"followers_7d\", F.sum(F.coalesce(F.col(\"followers_gained\"), F.lit(0))).over(wfol7))\n",
    "    .withColumn(\"activity_prev_21d_avg\", F.avg(\"activity\").over(wprev21))\n",
    "    .withColumn(\n",
    "        \"momentum_ratio\",\n",
    "        F.when(F.col(\"activity_prev_21d_avg\").isNull() | (F.col(\"activity_prev_21d_avg\") == 0), F.lit(None))\n",
    "         .otherwise(F.col(\"activity_7d\") / F.col(\"activity_prev_21d_avg\"))\n",
    "    )\n",
    "    .withColumn(\n",
    "        \"raw_score\",\n",
    "        F.coalesce(F.col(\"activity_7d\"), F.lit(0)) * F.lit(0.6) +\n",
    "        F.coalesce(F.col(\"followers_7d\"), F.lit(0)) * F.lit(10.0) +\n",
    "        (F.lit(10000) - F.least(F.coalesce(F.col(\"rank_estimate\"), F.lit(10000)), F.lit(10000))) * F.lit(0.1)\n",
    "    )\n",
    "    .select(\n",
    "        \"date\",\"platform\",\"region\",\"artist_id\",\"track_id\",\n",
    "        \"activity_7d\",\"activity_28d\",\"followers_7d\",\"momentum_ratio\",\"raw_score\"\n",
    "    )\n",
    ")\n",
    "\n",
    "# Materialize Gold table\n",
    "feat.write.mode(\"overwrite\").format(\"delta\").saveAsTable(f\"{CATALOG}.{GOLD}.track_momentum_daily\")\n",
    "\n",
    "display(spark.sql(f\"SELECT COUNT(*) AS rows FROM {CATALOG}.{GOLD}.track_momentum_daily\"))\n"
   ]
  },
  {
   "cell_type": "code",
   "execution_count": 0,
   "metadata": {
    "application/vnd.databricks.v1+cell": {
     "cellMetadata": {
      "byteLimit": 2048000,
      "rowLimit": 10000
     },
     "inputWidgets": {},
     "nuid": "5d0c3904-0e98-43b0-9a5d-005f7af449d2",
     "showTitle": false,
     "tableResultSettingsMap": {},
     "title": ""
    }
   },
   "outputs": [],
   "source": [
    "spark.sql(f\"\"\"\n",
    "CREATE OR REPLACE VIEW {CATALOG}.{GOLD}.v_rising_tracks AS\n",
    "SELECT\n",
    "  d.date,\n",
    "  d.platform,\n",
    "  d.region,\n",
    "  t.track_id,\n",
    "  t.track_title,\n",
    "  a.artist_id,\n",
    "  a.artist_name,\n",
    "  d.activity_7d,\n",
    "  d.activity_28d,\n",
    "  d.followers_7d,\n",
    "  d.momentum_ratio,\n",
    "  d.raw_score\n",
    "FROM {CATALOG}.{GOLD}.track_momentum_daily d\n",
    "JOIN {CATALOG}.{SILVER}.dim_track  t ON d.track_id = t.track_id\n",
    "JOIN {CATALOG}.{SILVER}.dim_artist a ON t.artist_id = a.artist_id\n",
    "\"\"\")\n",
    "\n",
    "display(spark.sql(f\"\"\"\n",
    "SELECT *\n",
    "FROM {CATALOG}.{GOLD}.v_rising_tracks\n",
    "ORDER BY date DESC, raw_score DESC\n",
    "LIMIT 20\n",
    "\"\"\"))\n"
   ]
  },
  {
   "cell_type": "code",
   "execution_count": 0,
   "metadata": {
    "application/vnd.databricks.v1+cell": {
     "cellMetadata": {
      "byteLimit": 2048000,
      "rowLimit": 10000
     },
     "inputWidgets": {},
     "nuid": "52f0a41a-f625-4b2e-aaf7-b12be5d48163",
     "showTitle": false,
     "tableResultSettingsMap": {},
     "title": ""
    }
   },
   "outputs": [],
   "source": [
    "# Helpful for BI performance on this modest dataset\n",
    "spark.sql(f\"OPTIMIZE {CATALOG}.{GOLD}.track_momentum_daily ZORDER BY (track_id, platform, date)\")\n"
   ]
  }
 ],
 "metadata": {
  "application/vnd.databricks.v1+notebook": {
   "computePreferences": null,
   "dashboards": [],
   "environmentMetadata": {
    "base_environment": "",
    "environment_version": "3"
   },
   "inputWidgetPreferences": null,
   "language": "python",
   "notebookMetadata": {
    "pythonIndentUnit": 4
   },
   "notebookName": "03_gold_features.py",
   "widgets": {}
  },
  "language_info": {
   "name": "python"
  }
 },
 "nbformat": 4,
 "nbformat_minor": 0
}
